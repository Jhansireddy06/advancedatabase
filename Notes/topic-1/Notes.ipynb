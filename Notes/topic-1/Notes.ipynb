{
 "cells": [
  {
   "cell_type": "markdown",
   "metadata": {},
   "source": [
    "1)\tForked a repo, created a codespace.\n",
    "2)\tUnix Commands:\n",
    "top, sqlite3\n",
    " \n",
    "3)\tIn .gitignore, we added ‘aalramad’. This means that any changes inside ‘aalramad’ will be ignored by git.\n",
    "4)\tsqlite3 pets.db -> creates a database\n",
    "5)\tsqlite3 commands (Don’t need a semi-colon and can be executed as queries):\n",
    ".exit terminates it or CTRL-Z.\n",
    ".tables lists the tables\n",
    ".headers on --> turns on the header row for tables\n",
    ".mode column --> makes output of SELECT nicer\n",
    "\n",
    "6)\tQuery commands:\n",
    "CREATE TABLE pets (id INTEGER PRIMARY KEY AUTOINCREMENT, name TEXT NOT NULL, type TEXT NOT NULL, age INTEGER, owner TEXT);\n",
    "INSERT INTO pets (name, type, age, owner) VALUES ('Dodo', 'Cat', 5, 'Ali');\n",
    "INSERT INTO pets (name, type, age, owner) VALUES ('Bobo', 'Dog', 7, 'Ali');\n",
    "SELECT * FROM pets;\n",
    "UPDATE pets SET age = 10 WHERE name = 'Dodo';\n",
    "DELETE FROM pets WHERE name = 'Dodo'; --> It is always a good idea to use SELECT to see what you want to delete before deleting \n",
    "\n",
    "Query commands don’t throw an error when nothing is found\n",
    "Query commands are not case sensitive\n",
    "Query commands require a semi-colon if used through the terminal, but don’t need a semi colon if used through python\n",
    "\n",
    "7)\tSQLite uses a dynamic type system, which means that the data type of a value is associated with the value itself, not with its container (the column). This allows SQLite to be more flexible with the types of data it can store in a column. When you insert a floating-point value into a column with an INTEGER affinity, SQLite will try to convert it to an integer. If the floating-point value can be represented exactly as an integer, it will be converted and stored as an integer. If not, it will be stored as a REAL (floating-point) value. This behavior is guided by the type affinity of the column. For example, a column with INTEGER affinity will prefer to store values as integers, but it can also store floating-point values if necessary.\n"
   ]
  }
 ],
 "metadata": {
  "language_info": {
   "name": "python"
  }
 },
 "nbformat": 4,
 "nbformat_minor": 2
}
