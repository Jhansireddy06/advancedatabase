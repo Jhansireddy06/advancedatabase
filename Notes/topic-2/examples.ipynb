{
 "cells": [
  {
   "cell_type": "code",
   "execution_count": 1,
   "metadata": {},
   "outputs": [],
   "source": [
    "import sqlite3"
   ]
  },
  {
   "cell_type": "code",
   "execution_count": 2,
   "metadata": {},
   "outputs": [],
   "source": [
    "connection = sqlite3.connect(\"pets.db\")"
   ]
  },
  {
   "cell_type": "code",
   "execution_count": 3,
   "metadata": {},
   "outputs": [
    {
     "data": {
      "text/plain": [
       "<sqlite3.Cursor at 0x72c7a1e67840>"
      ]
     },
     "execution_count": 3,
     "metadata": {},
     "output_type": "execute_result"
    }
   ],
   "source": [
    "cursor = connection.cursor()\n",
    "cursor"
   ]
  },
  {
   "cell_type": "code",
   "execution_count": 4,
   "metadata": {},
   "outputs": [],
   "source": [
    "\n",
    "cursor.execute(\"\"\"\n",
    "                create table if not exists pets(\n",
    "                    id integer primary key autoincrement,\n",
    "                    name text not null,\n",
    "                    type text not null,\n",
    "                    age integer,\n",
    "                    owner text\n",
    "                )\n",
    "               \"\"\")\n",
    "\n",
    "# This line is probably not needed because sqlite3 has an auto-commit feature for creating tables\n",
    "connection.commit()"
   ]
  },
  {
   "cell_type": "code",
   "execution_count": 5,
   "metadata": {},
   "outputs": [],
   "source": [
    "cursor.execute(\"\"\"\n",
    "               insert into pets(name, type, age, owner)\n",
    "               values ('dorothy', 'dog', 9, 'greg')\n",
    "               \"\"\")\n",
    "# Needed to push the journal.db to the table\n",
    "connection.commit() "
   ]
  },
  {
   "cell_type": "code",
   "execution_count": 6,
   "metadata": {},
   "outputs": [],
   "source": [
    "# This way of inserting is supposedly more secure\n",
    "name = \"bob\"\n",
    "cursor.execute(\"\"\"\n",
    "               insert into pets(name, type, age, owner)\n",
    "               values (?, ?, ?, ?)\n",
    "               \"\"\", (name, \"cat\", 2, \"Ali\")) \n",
    "connection.commit()"
   ]
  },
  {
   "cell_type": "code",
   "execution_count": 7,
   "metadata": {},
   "outputs": [
    {
     "name": "stdout",
     "output_type": "stream",
     "text": [
      "(1, 'dorothy', 'dog', 9, 'greg')\n",
      "(2, 'bob', 'cat', 2, 'Ali')\n"
     ]
    }
   ],
   "source": [
    "cursor.execute(\"\"\"\n",
    "               select * from pets\n",
    "               \"\"\")\n",
    "\n",
    "rows = cursor.fetchall()\n",
    "for row in rows:\n",
    "    print(row)\n"
   ]
  },
  {
   "cell_type": "code",
   "execution_count": 8,
   "metadata": {},
   "outputs": [
    {
     "name": "stdout",
     "output_type": "stream",
     "text": [
      "(2, 'bob', 'cat', 2, 'Ali')\n"
     ]
    }
   ],
   "source": [
    "# Notice the comma at the end of the tuple after the \"cat\"\n",
    "\n",
    "cursor.execute(\"select * from pets where type = ?\", (\"cat\",))\n",
    "\n",
    "rows = cursor.fetchone()\n",
    "print(row)\n"
   ]
  },
  {
   "cell_type": "code",
   "execution_count": 9,
   "metadata": {},
   "outputs": [],
   "source": [
    "cursor.execute(\"\"\"\n",
    "               update pets\n",
    "               set age = ?\n",
    "               where name = ?\"\"\", (93, \"bob\"))\n",
    "\n",
    "connection.commit()"
   ]
  }
 ],
 "metadata": {
  "kernelspec": {
   "display_name": "Python 3",
   "language": "python",
   "name": "python3"
  },
  "language_info": {
   "codemirror_mode": {
    "name": "ipython",
    "version": 3
   },
   "file_extension": ".py",
   "mimetype": "text/x-python",
   "name": "python",
   "nbconvert_exporter": "python",
   "pygments_lexer": "ipython3",
   "version": "3.12.1"
  }
 },
 "nbformat": 4,
 "nbformat_minor": 2
}
