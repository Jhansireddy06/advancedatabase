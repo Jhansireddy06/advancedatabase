{
 "cells": [
  {
   "cell_type": "markdown",
   "metadata": {},
   "source": [
    "1. How many movies are there that begin with \"A\"? \n",
    "\n",
    "```sql\n",
    "SELECT COUNT(*) \n",
    "FROM film\n",
    "WHERE title LIKE 'A%';\n",
    "```\n",
    "\n",
    "This will find all movies that begin with either 'A' or 'a'. \n",
    "If we want to make it case sensitive and only find those that start with 'A', then we use SUBSTR() as it is case-sensitive:\n",
    "\n",
    "```sql\n",
    "SELECT COUNT(*) \n",
    "FROM film \n",
    "WHERE SUBSTR(title, 1, 1) = 'A';\n",
    "```\n",
    "\n",
    "The answer is 46 for either query as the database contains titles with captial letters only.\n",
    "\n",
    "Notes:\n",
    "- The LIKE operator is used in the WHERE clause to filter rows based on a specified pattern in a column. It is case-insensitive by default in most database systems. It uses a string literal value that represent a pattern within single quotes.\n",
    "\n",
    "- Single Quotes: Always used for string literals.\n",
    "- Double Quotes: Used for identifiers, especially when they contain special characters or are reserved keywords.\n",
    "\n",
    "- The % wildcard represents any sequence of characters following the “A”.\n",
    "\n",
    "- SUBSTR(string, start, length):\n",
    "It is case sensitive.\n",
    "If the start position is greater than the length of the string, the function returns an empty string.\n",
    "If the length is omitted, the function returns the substring from the start position to the end of the string.\n",
    "If any argument is NULL, the function returns NULL.\n"
   ]
  },
  {
   "cell_type": "markdown",
   "metadata": {},
   "source": [
    "2. What is the longest movie? \n",
    "\n",
    "```sql\n",
    "SELECT title, length\n",
    "FROM film\n",
    "WHERE length = (SELECT MAX(length) FROM film);\n",
    "```\n",
    "\n",
    "The longest film(s) are:\n",
    "```\n",
    "CHICAGO NORTH|185\n",
    "CONTROL ANTHEM|185\n",
    "DARN FORRESTER|185\n",
    "GANGS PRIDE|185\n",
    "HOME PITY|185\n",
    "MUSCLE BRIGHT|185\n",
    "POND SEATTLE|185\n",
    "SOLDIERS EVOLUTION|185\n",
    "SWEET BROTHERHOOD|185\n",
    "WORST BANGER|185\n",
    "```\n",
    "\n"
   ]
  },
  {
   "cell_type": "markdown",
   "metadata": {},
   "source": [
    "3. What is the shortest movie?\n",
    "```sql\n",
    "SELECT title, length\n",
    "FROM film\n",
    "WHERE length = (SELECT MIN(length) FROM film);\n",
    "```\n",
    "\n",
    "The shortest film(s) are:\n",
    "```\n",
    "ALIEN CENTER|46\n",
    "IRON MOON|46\n",
    "KWAI HOMEWARD|46\n",
    "LABYRINTH LEAGUE|46\n",
    "RIDGEMONT SUBMARINE|46\n",
    "```\n",
    "\n"
   ]
  },
  {
   "cell_type": "markdown",
   "metadata": {},
   "source": [
    "4. What is the average length of a movie? \n",
    "\n",
    "```sql\n",
    "SELECT AVG(length) FROM film;\n",
    "```\n",
    "\n",
    "This gives an average value of 115.272."
   ]
  },
  {
   "cell_type": "markdown",
   "metadata": {},
   "source": [
    "5. What is the most common rental rate for movies? \n",
    "\n",
    "```sql\n",
    "SELECT rental_rate\n",
    "FROM film\n",
    "GROUP BY rental_rate\n",
    "HAVING COUNT(*) = (\n",
    "    SELECT COUNT(*)\n",
    "    FROM film\n",
    "    GROUP BY rental_rate\n",
    "    ORDER BY COUNT(*) DESC\n",
    "    LIMIT 1\n",
    ");\n",
    "```\n",
    "This query will select all of the equally common rental rates (if any). In this case, the most common rental rate(s) is only 0.99.\n",
    "\n"
   ]
  },
  {
   "cell_type": "markdown",
   "metadata": {},
   "source": [
    "6. How many movies are there for each rental rate? \n",
    "\n",
    "```sql\n",
    "SELECT rental_rate, COUNT(*) AS freq\n",
    "FROM film\n",
    "GROUP BY rental_rate\n",
    "ORDER BY freq DESC;\n",
    "```\n",
    "\n",
    "The number of movies for each rental rate is:\n",
    "```\n",
    "0.99|341\n",
    "4.99|336\n",
    "2.99|323\n",
    "```"
   ]
  },
  {
   "cell_type": "markdown",
   "metadata": {},
   "source": [
    "7. Of the years covered, what was the most popular year for movies?\n",
    "\n",
    "```sql\n",
    "SELECT release_year\n",
    "FROM film\n",
    "GROUP BY release_year\n",
    "HAVING COUNT(*) = (\n",
    "    SELECT COUNT(*)\n",
    "    FROM film\n",
    "    GROUP BY release_year\n",
    "    ORDER BY COUNT(*) DESC\n",
    "    LIMIT 1\n",
    ");\n",
    "```\n",
    "This query will select all of the equally popular years (if any). In the case, the most popular year(s) is only 2006.\n",
    "\n",
    "```\n",
    "SELECT release_year: This part of the query selects the release_year column.\n",
    "FROM film: Specifies the table from which to retrieve the data.\n",
    "GROUP BY release_year: Groups the rows by the release_year column --> When using the GROUP BY clause, all columns in the SELECT statement that are not part of an aggregate function (e.g., count()) must be included in the GROUP BY clause.\n",
    "ORDER BY COUNT(*) DESC: Orders the results by the count of movies in descending order --> Can inlcude columns even if not specified in SELECT.\n",
    "LIMIT 1: Limits the result to the year with the highest count of movies.\n",
    "\n",
    "In SQL, you cannot directly use aggregate functions like COUNT() in the WHERE clause. Instead, you should use the HAVING clause for conditions that involve aggregate functions. The WHERE clause is used to filter rows before any groupings are made, while the HAVING clause is used to filter groups after the GROUP BY clause has been applied.\n",
    "```"
   ]
  },
  {
   "cell_type": "markdown",
   "metadata": {},
   "source": [
    "8. What is the longest title for a movie? \n",
    "\n",
    "```sql\n",
    "SELECT title\n",
    "FROM film\n",
    "WHERE LENGTH(title) = (SELECT MAX(LENGTH(title)) FROM film);\n",
    "```\n",
    "\n",
    "The answer is: ARACHNOPHOBIA ROLLERCOASTER\n",
    "The query will list all titles that have the same maximum length."
   ]
  },
  {
   "cell_type": "markdown",
   "metadata": {},
   "source": [
    "9. What are the 10 longest movies, listed alphabetically? \n",
    "\n",
    "```sql\n",
    "SELECT title\n",
    "FROM film\n",
    "ORDER BY length DESC, title ASC\n",
    "LIMIT 10;\n",
    "```\n",
    "\n",
    "The result is:\n",
    "```\n",
    "CHICAGO NORTH\n",
    "CONTROL ANTHEM\n",
    "DARN FORRESTER\n",
    "GANGS PRIDE\n",
    "HOME PITY\n",
    "MUSCLE BRIGHT\n",
    "POND SEATTLE\n",
    "SOLDIERS EVOLUTION\n",
    "SWEET BROTHERHOOD\n",
    "WORST BANGER\n",
    "```"
   ]
  },
  {
   "cell_type": "markdown",
   "metadata": {},
   "source": [
    "10. Can you discover any other interesting facts about movie titles, in general? For instance, how many titles include the word \"after\"? \n",
    "\n",
    "```sql\n",
    "SELECT COUNT(*)\n",
    "FROM film\n",
    "WHERE title LIKE '%after%';\n",
    "```\n",
    "\n",
    "There are 0 movies with the word after.\n"
   ]
  }
 ],
 "metadata": {
  "language_info": {
   "name": "python"
  }
 },
 "nbformat": 4,
 "nbformat_minor": 2
}
